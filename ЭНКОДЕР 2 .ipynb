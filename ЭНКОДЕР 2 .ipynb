{
 "cells": [
  {
   "cell_type": "code",
   "execution_count": 375,
   "id": "56254dde-812c-4eee-b835-ba32807256f6",
   "metadata": {},
   "outputs": [],
   "source": [
    "# Импорт необходимых библиотек\n",
    "import torch\n",
    "import torchaudio\n",
    "import torchaudio.transforms as transforms\n",
    "import os\n",
    "import random\n",
    "from sklearn.model_selection import train_test_split\n",
    "import torch.nn as nn\n",
    "import torch.optim as optim\n",
    "import matplotlib.pyplot as plt"
   ]
  },
  {
   "cell_type": "code",
   "execution_count": 376,
   "id": "0cfbec39-087f-4394-bb23-8441d077e98b",
   "metadata": {},
   "outputs": [
    {
     "name": "stdout",
     "output_type": "stream",
     "text": [
      "Обучение идёт на GPU\n"
     ]
    }
   ],
   "source": [
    "# Определение устройства (CPU или GPU)\n",
    "if torch.cuda.is_available():\n",
    "    device = torch.device(\"cuda\")\n",
    "    print(\"Обучение идёт на GPU\")\n",
    "else:\n",
    "    device = torch.device(\"cpu\")\n",
    "    print(\"Обучение идёт на CPU\")"
   ]
  },
  {
   "cell_type": "code",
   "execution_count": 377,
   "id": "b4d01ef0-4b10-4f01-9a1c-b2f623000714",
   "metadata": {},
   "outputs": [],
   "source": [
    "import wandb"
   ]
  },
  {
   "cell_type": "code",
   "execution_count": 378,
   "id": "c6ddae46-a2ec-4443-b34a-6ba61c631456",
   "metadata": {},
   "outputs": [
    {
     "data": {
      "text/html": [
       "Finishing last run (ID:lvik6x34) before initializing another..."
      ],
      "text/plain": [
       "<IPython.core.display.HTML object>"
      ]
     },
     "metadata": {},
     "output_type": "display_data"
    },
    {
     "data": {
      "application/vnd.jupyter.widget-view+json": {
       "model_id": "",
       "version_major": 2,
       "version_minor": 0
      },
      "text/plain": [
       "VBox(children=(Label(value='0.004 MB of 0.004 MB uploaded\\r'), FloatProgress(value=1.0, max=1.0)))"
      ]
     },
     "metadata": {},
     "output_type": "display_data"
    },
    {
     "data": {
      "text/html": [
       "<style>\n",
       "    table.wandb td:nth-child(1) { padding: 0 10px; text-align: left ; width: auto;} td:nth-child(2) {text-align: left ; width: 100%}\n",
       "    .wandb-row { display: flex; flex-direction: row; flex-wrap: wrap; justify-content: flex-start; width: 100% }\n",
       "    .wandb-col { display: flex; flex-direction: column; flex-basis: 100%; flex: 1; padding: 10px; }\n",
       "    </style>\n",
       "<div class=\"wandb-row\"><div class=\"wandb-col\"><h3>Run history:</h3><br/><table class=\"wandb\"><tr><td>epoch</td><td>▁▁▁▁▂▂▂▂▂▂▃▃▃▃▄▄▄▄▄▄▅▅▅▅▅▅▆▆▆▆▇▇▇▇▇█████</td></tr><tr><td>train_loss</td><td>▁▁▁▁▁▁▁▁▁▁▁▁▁▁▁▁▁▁▁▁▁▁▁▁▁▁▁▁▁▁▁▁▁▁▁▁▁▁▁▁</td></tr><tr><td>val_loss</td><td>▁███████████████████████████████████████</td></tr></table><br/></div><div class=\"wandb-col\"><h3>Run summary:</h3><br/><table class=\"wandb\"><tr><td>epoch</td><td>200</td></tr><tr><td>train_loss</td><td>0.5</td></tr><tr><td>val_loss</td><td>0.5</td></tr></table><br/></div></div>"
      ],
      "text/plain": [
       "<IPython.core.display.HTML object>"
      ]
     },
     "metadata": {},
     "output_type": "display_data"
    },
    {
     "data": {
      "text/html": [
       " View run <strong style=\"color:#cdcd00\">skilled-armadillo-9</strong> at: <a href='https://wandb.ai/balamytin-susu/speaker-verification/runs/lvik6x34' target=\"_blank\">https://wandb.ai/balamytin-susu/speaker-verification/runs/lvik6x34</a><br/> View project at: <a href='https://wandb.ai/balamytin-susu/speaker-verification' target=\"_blank\">https://wandb.ai/balamytin-susu/speaker-verification</a><br/>Synced 5 W&B file(s), 0 media file(s), 0 artifact file(s) and 0 other file(s)"
      ],
      "text/plain": [
       "<IPython.core.display.HTML object>"
      ]
     },
     "metadata": {},
     "output_type": "display_data"
    },
    {
     "data": {
      "text/html": [
       "Find logs at: <code>.\\wandb\\run-20240929_221510-lvik6x34\\logs</code>"
      ],
      "text/plain": [
       "<IPython.core.display.HTML object>"
      ]
     },
     "metadata": {},
     "output_type": "display_data"
    },
    {
     "data": {
      "text/html": [
       "Successfully finished last run (ID:lvik6x34). Initializing new run:<br/>"
      ],
      "text/plain": [
       "<IPython.core.display.HTML object>"
      ]
     },
     "metadata": {},
     "output_type": "display_data"
    },
    {
     "data": {
      "text/html": [
       "Tracking run with wandb version 0.18.2"
      ],
      "text/plain": [
       "<IPython.core.display.HTML object>"
      ]
     },
     "metadata": {},
     "output_type": "display_data"
    },
    {
     "data": {
      "text/html": [
       "Run data is saved locally in <code>C:\\Users\\Андрей гл\\OBUCHENIE\\3 СЕМЕСТР\\Нейросетевые технологии в задачах синтетических медиа\\Практическая 3\\wandb\\run-20240930_151528-z0f6l5xx</code>"
      ],
      "text/plain": [
       "<IPython.core.display.HTML object>"
      ]
     },
     "metadata": {},
     "output_type": "display_data"
    },
    {
     "data": {
      "text/html": [
       "Syncing run <strong><a href='https://wandb.ai/balamytin-susu/speaker-verification/runs/z0f6l5xx' target=\"_blank\">toasty-bee-10</a></strong> to <a href='https://wandb.ai/balamytin-susu/speaker-verification' target=\"_blank\">Weights & Biases</a> (<a href='https://wandb.me/run' target=\"_blank\">docs</a>)<br/>"
      ],
      "text/plain": [
       "<IPython.core.display.HTML object>"
      ]
     },
     "metadata": {},
     "output_type": "display_data"
    },
    {
     "data": {
      "text/html": [
       " View project at <a href='https://wandb.ai/balamytin-susu/speaker-verification' target=\"_blank\">https://wandb.ai/balamytin-susu/speaker-verification</a>"
      ],
      "text/plain": [
       "<IPython.core.display.HTML object>"
      ]
     },
     "metadata": {},
     "output_type": "display_data"
    },
    {
     "data": {
      "text/html": [
       " View run at <a href='https://wandb.ai/balamytin-susu/speaker-verification/runs/z0f6l5xx' target=\"_blank\">https://wandb.ai/balamytin-susu/speaker-verification/runs/z0f6l5xx</a>"
      ],
      "text/plain": [
       "<IPython.core.display.HTML object>"
      ]
     },
     "metadata": {},
     "output_type": "display_data"
    },
    {
     "data": {
      "text/html": [
       "<button onClick=\"this.nextSibling.style.display='block';this.style.display='none';\">Display W&B run</button><iframe src='https://wandb.ai/balamytin-susu/speaker-verification/runs/z0f6l5xx?jupyter=true' style='border:none;width:100%;height:420px;display:none;'></iframe>"
      ],
      "text/plain": [
       "<wandb.sdk.wandb_run.Run at 0x1fadcbec750>"
      ]
     },
     "execution_count": 378,
     "metadata": {},
     "output_type": "execute_result"
    }
   ],
   "source": [
    "wandb.init(project=\"speaker-verification\", entity=\"balamytin-susu\")"
   ]
  },
  {
   "cell_type": "code",
   "execution_count": 379,
   "id": "43ac6369-4e56-4595-94df-2d1a3443060f",
   "metadata": {},
   "outputs": [],
   "source": [
    "# Путь к папке с аудиофайлами (обновите на правильный путь к директории)\n",
    "data_dir = r'C:\\Users\\Андрей гл\\OBUCHENIE\\3 СЕМЕСТР\\Нейросетевые технологии в задачах синтетических медиа\\Практическая 3\\VCTK-Corpus\\wav48' \n"
   ]
  },
  {
   "cell_type": "code",
   "execution_count": 380,
   "id": "4fb77fbd-8323-4f4c-bdaf-45b7de15d514",
   "metadata": {},
   "outputs": [],
   "source": [
    "# Получаем все файлы и их соответствующие спикеры\n",
    "all_files = []\n",
    "labels = []\n",
    "\n",
    "for speaker_folder in os.listdir(data_dir):\n",
    "    speaker_path = os.path.join(data_dir, speaker_folder)\n",
    "    if os.path.isdir(speaker_path):\n",
    "        for file_name in os.listdir(speaker_path):\n",
    "            if file_name.endswith('.wav'):\n",
    "                file_path = os.path.join(speaker_path, file_name)\n",
    "                all_files.append(file_path)\n",
    "                labels.append(speaker_folder)  # Лейбл - имя папки спикера"
   ]
  },
  {
   "cell_type": "code",
   "execution_count": 381,
   "id": "dfc58324-3bb0-4d29-a109-66a9e609f688",
   "metadata": {},
   "outputs": [
    {
     "name": "stdout",
     "output_type": "stream",
     "text": [
      "Найдено файлов: 44242\n",
      "Пример файла: C:\\Users\\Андрей гл\\OBUCHENIE\\3 СЕМЕСТР\\Нейросетевые технологии в задачах синтетических медиа\\Практическая 3\\VCTK-Corpus\\wav48\\p225\\p225_001.wav\n"
     ]
    }
   ],
   "source": [
    "# Выводим результат\n",
    "print(f\"Найдено файлов: {len(all_files)}\")\n",
    "print(f\"Пример файла: {all_files[0]}\")"
   ]
  },
  {
   "cell_type": "code",
   "execution_count": 382,
   "id": "c3507f8c-f5ae-4367-899a-165019858b86",
   "metadata": {},
   "outputs": [
    {
     "name": "stdout",
     "output_type": "stream",
     "text": [
      "Training set: 30969 samples\n",
      "Validation set: 6636 samples\n",
      "Test set: 6637 samples\n"
     ]
    }
   ],
   "source": [
    "# Разделение данных на тренировочные, валидационные и тестовые наборы\n",
    "train_files, test_files, train_labels, test_labels = train_test_split(\n",
    "    all_files, labels, test_size=0.3, random_state=42, stratify=labels)\n",
    "\n",
    "val_files, test_files, val_labels, test_labels = train_test_split(\n",
    "    test_files, test_labels, test_size=0.5, random_state=42, stratify=test_labels)\n",
    "\n",
    "# Проверяем количество файлов в наборах\n",
    "print(f\"Training set: {len(train_files)} samples\")\n",
    "print(f\"Validation set: {len(val_files)} samples\")\n",
    "print(f\"Test set: {len(test_files)} samples\")"
   ]
  },
  {
   "cell_type": "code",
   "execution_count": 383,
   "id": "a53556ae-0f12-4439-a0b5-c5fbe0afc9c2",
   "metadata": {},
   "outputs": [],
   "source": [
    "# Настройки мел-спектрограммы\n",
    "n_fft = 1024  # Размер окна Фурье\n",
    "hop_length = 512  # Шаг окна\n",
    "n_mels = 80  # Количество фильтров мел-банки\n",
    "sample_rate = 22050  # Частота дискретизации аудиофайлов в VCTK\n"
   ]
  },
  {
   "cell_type": "code",
   "execution_count": 384,
   "id": "646bb5be-ce28-47b4-86ef-f4d2817d250b",
   "metadata": {},
   "outputs": [],
   "source": [
    "# Функция для извлечения мел-спектрограммы\n",
    "mel_transform = transforms.MelSpectrogram(\n",
    "    sample_rate=sample_rate,\n",
    "    n_fft=n_fft,\n",
    "    hop_length=hop_length,\n",
    "    n_mels=n_mels\n",
    ")"
   ]
  },
  {
   "cell_type": "code",
   "execution_count": 385,
   "id": "27e2dea6-1648-4bdf-a404-b98bc482b75a",
   "metadata": {},
   "outputs": [],
   "source": [
    "def extract_mel_spectrogram(file_path, max_length=285):\n",
    "    waveform, sr = torchaudio.load(file_path)  # Загружаем аудио\n",
    "    if sr != sample_rate:\n",
    "        resample_transform = transforms.Resample(sr, sample_rate)\n",
    "        waveform = resample_transform(waveform)  # Применяем ресэмплинг\n",
    "    mel_spec = mel_transform(waveform)  # Извлекаем мел-спектрограмму\n",
    "    mel_spec_db = transforms.AmplitudeToDB()(mel_spec)  # Преобразуем в dB\n",
    "    \n",
    "    # Обрезаем или дополняем мел-спектрограмму до фиксированной длины\n",
    "    if mel_spec_db.shape[-1] > max_length:\n",
    "        mel_spec_db = mel_spec_db[:, :, :max_length]\n",
    "    elif mel_spec_db.shape[-1] < max_length:\n",
    "        pad_amount = max_length - mel_spec_db.shape[-1]\n",
    "        mel_spec_db = torch.nn.functional.pad(mel_spec_db, (0, pad_amount))\n",
    "    \n",
    "    return mel_spec_db"
   ]
  },
  {
   "cell_type": "code",
   "execution_count": 386,
   "id": "7b00ef00-1027-4c79-9c44-5061320cb76b",
   "metadata": {},
   "outputs": [],
   "source": [
    "import torch.nn.functional as F\n",
    "import torch.nn as nn\n",
    "\n",
    "class CNNEncoder(nn.Module):\n",
    "    def __init__(self):\n",
    "        super(CNNEncoder, self).__init__()\n",
    "        self.conv1 = nn.Sequential(\n",
    "            nn.Conv2d(1, 64, kernel_size=(3, 3), padding=1),\n",
    "            nn.BatchNorm2d(64),  # BatchNorm слой\n",
    "            nn.ReLU(),\n",
    "            nn.MaxPool2d((2, 2))\n",
    "        )\n",
    "        self.conv2 = nn.Sequential(\n",
    "            nn.Conv2d(64, 128, kernel_size=(3, 3), padding=1),\n",
    "            nn.BatchNorm2d(128),  # BatchNorm слой\n",
    "            nn.ReLU(),\n",
    "            nn.MaxPool2d((2, 2))\n",
    "        )\n",
    "        self.conv3 = nn.Sequential(  # Дополнительный свёрточный слой\n",
    "            nn.Conv2d(128, 256, kernel_size=(3, 3), padding=1),\n",
    "            nn.BatchNorm2d(256),  # BatchNorm слой\n",
    "            nn.ReLU(),\n",
    "            nn.MaxPool2d((2, 2))\n",
    "        )\n",
    "        self.flatten = nn.Flatten()\n",
    "        self.fc1 = nn.Sequential(\n",
    "            nn.Linear(256 * 10 * 35, 256),\n",
    "            nn.ReLU(),\n",
    "            nn.Dropout(0.5)\n",
    "        )\n",
    "        self.fc2 = nn.Linear(256, 64)  # Выходной слой - вектор признаков\n",
    "\n",
    "    def forward(self, x):\n",
    "        x = self.conv1(x)\n",
    "        x = self.conv2(x)\n",
    "        x = self.conv3(x)  # Обработка третьим свёрточным слоем\n",
    "        x = self.flatten(x)\n",
    "        x = self.fc1(x)\n",
    "        x = self.fc2(x)\n",
    "        x = nn.functional.normalize(x, p=2, dim=1)  # L2-нормализация\n",
    "        return x"
   ]
  },
  {
   "cell_type": "code",
   "execution_count": 387,
   "id": "727d9f08-1c0b-4626-95c3-55bc618fd6dc",
   "metadata": {},
   "outputs": [],
   "source": [
    "# import torch.nn.functional as F\n",
    "\n",
    "# # Определение модели CNN-энкодера\n",
    "# class CNNEncoder(nn.Module):\n",
    "#     def __init__(self):\n",
    "#         super(CNNEncoder, self).__init__()\n",
    "#         self.conv1 = nn.Conv2d(1, 64, kernel_size=(3, 3), padding=1)\n",
    "#         self.pool1 = nn.MaxPool2d((2, 2))\n",
    "#         self.conv2 = nn.Conv2d(64, 128, kernel_size=(3, 3), padding=1)\n",
    "#         self.pool2 = nn.MaxPool2d((2, 2))\n",
    "#         self.conv3 = nn.Conv2d(128, 128, kernel_size=(3, 3), padding=1)\n",
    "#         self.pool3 = nn.MaxPool2d((2, 2))\n",
    "#         self.flatten = nn.Flatten()\n",
    "#         self.fc1 = nn.Sequential(\n",
    "#             nn.Linear(128 * 10 * 35, 128),  # Проверьте размеры в соответствии с вашими данными\n",
    "#             nn.ReLU(),\n",
    "#             nn.Dropout(0.5)\n",
    "#         )\n",
    "#         self.fc2 = nn.Linear(128, 64)\n",
    "\n",
    "#     def forward(self, x):\n",
    "#         x = self.pool1(torch.relu(self.conv1(x)))\n",
    "#         x = self.pool2(torch.relu(self.conv2(x)))\n",
    "#         x = self.pool3(torch.relu(self.conv3(x)))\n",
    "#         x = self.flatten(x)\n",
    "#         x = self.fc1(x)\n",
    "#         x = self.fc2(x)\n",
    "#         x = F.normalize(x, p=2, dim=1)  # Apply L2 normalization\n",
    "#         return x"
   ]
  },
  {
   "cell_type": "code",
   "execution_count": 388,
   "id": "b229034d-fb74-4ade-9c1a-0751747dcb03",
   "metadata": {},
   "outputs": [],
   "source": [
    "# Инициализация модели\n",
    "model = CNNEncoder().to(device)"
   ]
  },
  {
   "cell_type": "code",
   "execution_count": 389,
   "id": "e9190a50-dd67-4aa1-9890-a1944b490a6e",
   "metadata": {},
   "outputs": [],
   "source": [
    "# Определение функции потерь Triplet Loss\n",
    "class TripletLoss(nn.Module):\n",
    "    def __init__(self, margin=1.5):\n",
    "        super(TripletLoss, self).__init__()\n",
    "        self.margin = margin\n",
    "\n",
    "    def forward(self, anchor, positive, negative):\n",
    "        pos_dist = 1 - torch.nn.functional.cosine_similarity(anchor, positive)\n",
    "        neg_dist = 1 - torch.nn.functional.cosine_similarity(anchor, negative)\n",
    "        loss = torch.relu(pos_dist - neg_dist + self.margin).mean()\n",
    "        return loss\n",
    "\n",
    "triplet_loss = TripletLoss(margin=0.5)"
   ]
  },
  {
   "cell_type": "code",
   "execution_count": 390,
   "id": "5980b1e1-54ec-4083-841d-11239c975f7b",
   "metadata": {},
   "outputs": [],
   "source": [
    "# Определение оптимизатора\n",
    "optimizer = optim.Adam(model.parameters(), lr=0.0001, weight_decay=1e-4)"
   ]
  },
  {
   "cell_type": "code",
   "execution_count": 391,
   "id": "7248fdc7-ad97-4bd8-b199-aeaf748d0ada",
   "metadata": {},
   "outputs": [],
   "source": [
    "# Функция для генерации триплетов\n",
    "def generate_triplets(files, labels):\n",
    "    triplets = []\n",
    "    label_to_files = {}\n",
    "    \n",
    "    # Группируем файлы по лейблам (спикерам)\n",
    "    for file, label in zip(files, labels):\n",
    "        if label not in label_to_files:\n",
    "            label_to_files[label] = []\n",
    "        label_to_files[label].append(file)\n",
    "    \n",
    "    for label, file_list in label_to_files.items():\n",
    "        if len(file_list) < 2:\n",
    "            continue  # Пропускаем спикеров с недостаточным количеством файлов\n",
    "        \n",
    "        # Создаем несколько триплетов для каждого спикера\n",
    "        for _ in range(5):  # Количество триплетов на спикера\n",
    "            anchor, positive = random.sample(file_list, 2)\n",
    "            negative_label = random.choice([l for l in label_to_files.keys() if l != label])\n",
    "            negative = random.choice(label_to_files[negative_label])\n",
    "            triplets.append((anchor, positive, negative))\n",
    "    \n",
    "    return triplets\n"
   ]
  },
  {
   "cell_type": "code",
   "execution_count": 392,
   "id": "c82b7628-3162-470c-8384-3f6171b99229",
   "metadata": {},
   "outputs": [],
   "source": [
    "# Генерация триплетов для тренировочного и валидационного наборов\n",
    "train_triplets = generate_triplets(train_files, train_labels)\n",
    "val_triplets = generate_triplets(val_files, val_labels)\n",
    "test_triplets = generate_triplets(test_files, test_labels)"
   ]
  },
  {
   "cell_type": "code",
   "execution_count": 393,
   "id": "05b24546-25a0-4ef8-9a2a-1ed0e90d1969",
   "metadata": {},
   "outputs": [],
   "source": [
    "def validate_model(model, val_triplets, loss_fn, device='cuda'):\n",
    "    model.eval()  # Переводим модель в режим валидации (отключаем Dropout, BatchNorm)\n",
    "    total_loss = 0.0\n",
    "    \n",
    "    with torch.no_grad():  # Отключаем вычисление градиентов\n",
    "        for anchor_file, positive_file, negative_file in val_triplets:\n",
    "            anchor = extract_mel_spectrogram(anchor_file).unsqueeze(0).to(device)\n",
    "            positive = extract_mel_spectrogram(positive_file).unsqueeze(0).to(device)\n",
    "            negative = extract_mel_spectrogram(negative_file).unsqueeze(0).to(device)\n",
    "            \n",
    "            anchor_embed = model(anchor)\n",
    "            positive_embed = model(positive)\n",
    "            negative_embed = model(negative)\n",
    "            \n",
    "            loss = loss_fn(anchor_embed, positive_embed, negative_embed)\n",
    "            total_loss += loss.item()\n",
    "    \n",
    "    avg_loss = total_loss / len(val_triplets)\n",
    "    return avg_loss"
   ]
  },
  {
   "cell_type": "code",
   "execution_count": 394,
   "id": "cbc81b8f-b741-4ccc-858b-70385a6cd79b",
   "metadata": {},
   "outputs": [],
   "source": [
    "def train_model(model, train_triplets, val_triplets, optimizer, loss_fn, num_epochs=10, device='cuda'):\n",
    "    wandb.watch(model, log=\"all\")  # отслеживание модели\n",
    "    model.train()\n",
    "    train_losses = []\n",
    "    val_losses = []\n",
    " \n",
    "    for epoch in range(num_epochs):\n",
    "        total_train_loss = 0.0\n",
    "        \n",
    "        # Тренировочный цикл\n",
    "        for anchor_file, positive_file, negative_file in train_triplets:\n",
    "            anchor = extract_mel_spectrogram(anchor_file).unsqueeze(0).to(device)\n",
    "            positive = extract_mel_spectrogram(positive_file).unsqueeze(0).to(device)\n",
    "            negative = extract_mel_spectrogram(negative_file).unsqueeze(0).to(device)\n",
    "            \n",
    "            anchor_embed = model(anchor)\n",
    "            positive_embed = model(positive)\n",
    "            negative_embed = model(negative)\n",
    "            \n",
    "            loss = loss_fn(anchor_embed, positive_embed, negative_embed)\n",
    "            \n",
    "            optimizer.zero_grad()\n",
    "            loss.backward()\n",
    "            optimizer.step()\n",
    "            \n",
    "            total_train_loss += loss.item()\n",
    "        \n",
    "        avg_train_loss = total_train_loss / len(train_triplets)\n",
    "        train_losses.append(avg_train_loss)\n",
    "        \n",
    "        # Валидация после каждой эпохи\n",
    "        avg_val_loss = validate_model(model, val_triplets, loss_fn, device)\n",
    "        val_losses.append(avg_val_loss)\n",
    "        \n",
    "        print(f\"Эпоха {epoch + 1}, Тренировочные потери: {avg_train_loss}, Валидационные потери: {avg_val_loss}\")\n",
    "        \n",
    "        # Логируем значения в W&B\n",
    "        wandb.log({\"train_loss\": avg_train_loss, \"val_loss\": avg_val_loss, \"epoch\": epoch + 1})\n",
    "\n",
    "    return train_losses, val_losses"
   ]
  },
  {
   "cell_type": "code",
   "execution_count": 395,
   "id": "838f9dc6-c8f5-419a-9cfe-b01a3c0a08f0",
   "metadata": {},
   "outputs": [],
   "source": [
    "# # Функция обучения модели\n",
    "# def train_model(model, triplets, optimizer, loss_fn, num_epochs=10, device='cuda'):\n",
    "#     model.train()\n",
    "#     losses = []\n",
    "    \n",
    "#     for epoch in range(num_epochs):\n",
    "#         total_loss = 0.0\n",
    "        \n",
    "#         for anchor_file, positive_file, negative_file in triplets:\n",
    "#             anchor = extract_mel_spectrogram(anchor_file).unsqueeze(0).to(device)\n",
    "#             positive = extract_mel_spectrogram(positive_file).unsqueeze(0).to(device)\n",
    "#             negative = extract_mel_spectrogram(negative_file).unsqueeze(0).to(device)\n",
    "            \n",
    "#             anchor_embed = model(anchor)\n",
    "#             positive_embed = model(positive)\n",
    "#             negative_embed = model(negative)\n",
    "            \n",
    "#             loss = loss_fn(anchor_embed, positive_embed, negative_embed)\n",
    "            \n",
    "#             optimizer.zero_grad()\n",
    "#             loss.backward()\n",
    "#             optimizer.step()\n",
    "            \n",
    "#             total_loss += loss.item()\n",
    "        \n",
    "#         avg_loss = total_loss / len(triplets)\n",
    "#         losses.append(avg_loss)\n",
    "#         print(f\"Эпоха {epoch + 1}, Потери: {avg_loss}\")\n",
    "\n",
    "#     return losses"
   ]
  },
  {
   "cell_type": "code",
   "execution_count": 396,
   "id": "1ff99f4e-fbc1-44ec-a9c3-bcbe73b499f4",
   "metadata": {},
   "outputs": [
    {
     "name": "stdout",
     "output_type": "stream",
     "text": [
      "Эпоха 1, Тренировочные потери: 0.4732791944381294, Валидационные потери: 0.4391668265018988\n",
      "Эпоха 2, Тренировочные потери: 0.4245300874797576, Валидационные потери: 0.40517158059898867\n",
      "Эпоха 3, Тренировочные потери: 0.3717163428254084, Валидационные потери: 0.35780813114358745\n",
      "Эпоха 4, Тренировочные потери: 0.2501776957730634, Валидационные потери: 0.23429571991666742\n",
      "Эпоха 5, Тренировочные потери: 0.15323197152636467, Валидационные потери: 0.2529793629952527\n",
      "Эпоха 6, Тренировочные потери: 0.10250325148258735, Валидационные потери: 0.28093819115140023\n",
      "Эпоха 7, Тренировочные потери: 0.06696014480853299, Валидационные потери: 0.27027535722890034\n",
      "Эпоха 8, Тренировочные потери: 0.04418169784983364, Валидационные потери: 0.2646729306343499\n",
      "Эпоха 9, Тренировочные потери: 0.030131979710465176, Валидационные потери: 0.2293388479346529\n",
      "Эпоха 10, Тренировочные потери: 0.016741622259857456, Валидационные потери: 0.23509193680702\n",
      "Эпоха 11, Тренировочные потери: 0.01467714331565647, Валидационные потери: 0.23489841507115494\n",
      "Эпоха 12, Тренировочные потери: 0.00875884196080199, Валидационные потери: 0.24734053568008843\n",
      "Эпоха 13, Тренировочные потери: 0.012646214787019503, Валидационные потери: 0.24971881951760808\n",
      "Эпоха 14, Тренировочные потери: 0.006273042499472242, Валидационные потери: 0.2290376828351152\n",
      "Эпоха 15, Тренировочные потери: 0.006001093409477024, Валидационные потери: 0.24688237139938074\n",
      "Эпоха 16, Тренировочные потери: 0.008762578242415681, Валидационные потери: 0.23289095677367044\n",
      "Эпоха 17, Тренировочные потери: 0.008837712904728881, Валидационные потери: 0.2501294198386166\n",
      "Эпоха 18, Тренировочные потери: 0.0056032992284232325, Валидационные потери: 0.22692909404772138\n",
      "Эпоха 19, Тренировочные потери: 0.004551952585167841, Валидационные потери: 0.24655269526560372\n",
      "Эпоха 20, Тренировочные потери: 0.0021534778656215844, Валидационные потери: 0.2292956624556025\n",
      "Эпоха 21, Тренировочные потери: 0.006258185303539311, Валидационные потери: 0.24297185753463604\n",
      "Эпоха 22, Тренировочные потери: 0.005130619630901092, Валидационные потери: 0.2513127744744677\n",
      "Эпоха 23, Тренировочные потери: 0.004217067333536411, Валидационные потери: 0.2415580110812406\n",
      "Эпоха 24, Тренировочные потери: 0.004604686400212279, Валидационные потери: 0.24296218998935246\n",
      "Эпоха 25, Тренировочные потери: 0.004613196521724036, Валидационные потери: 0.24566487697286343\n",
      "Эпоха 26, Тренировочные потери: 0.005268839958610884, Валидационные потери: 0.23074682513508227\n",
      "Эпоха 27, Тренировочные потери: 0.0023365671481561223, Валидационные потери: 0.2287696943370574\n",
      "Эпоха 28, Тренировочные потери: 0.0028419025447390493, Валидационные потери: 0.2393717767995432\n",
      "Эпоха 29, Тренировочные потери: 0.006137127613802569, Валидационные потери: 0.23732960147595186\n",
      "Эпоха 30, Тренировочные потери: 0.003056945932020835, Валидационные потери: 0.24625617845342793\n",
      "Эпоха 31, Тренировочные потери: 0.001773382326878539, Валидационные потери: 0.24624339845202384\n",
      "Эпоха 32, Тренировочные потери: 0.003473802772137003, Валидационные потери: 0.24192788929020592\n",
      "Эпоха 33, Тренировочные потери: 0.003900800385606398, Валидационные потери: 0.2318697478793083\n",
      "Эпоха 34, Тренировочные потери: 0.0016864922068534642, Валидационные потери: 0.21919019408182266\n",
      "Эпоха 35, Тренировочные потери: 0.003204657725237925, Валидационные потери: 0.2257365064883451\n",
      "Эпоха 36, Тренировочные потери: 0.006664406050235853, Валидационные потери: 0.23714961797819226\n",
      "Эпоха 37, Тренировочные потери: 0.0035699820299761012, Валидационные потери: 0.22343948040533504\n",
      "Эпоха 38, Тренировочные потери: 0.001876197058126467, Валидационные потери: 0.22089263867894443\n",
      "Эпоха 39, Тренировочные потери: 0.0006444317485214373, Валидационные потери: 0.23219942510674854\n",
      "Эпоха 40, Тренировочные потери: 0.002664664907192965, Валидационные потери: 0.24771191242637985\n",
      "Эпоха 41, Тренировочные потери: 0.0033829774331609044, Валидационные потери: 0.23530451299947336\n",
      "Эпоха 42, Тренировочные потери: 0.0030277281726172212, Валидационные потери: 0.26438622769959474\n",
      "Эпоха 43, Тренировочные потери: 0.001768024142729033, Валидационные потери: 0.24325420156531377\n",
      "Эпоха 44, Тренировочные потери: 0.001007773460598167, Валидационные потери: 0.24089519846329996\n",
      "Эпоха 45, Тренировочные потери: 0.0033223892570635595, Валидационные потери: 0.24921176575739448\n",
      "Эпоха 46, Тренировочные потери: 0.002724617774333429, Валидационные потери: 0.23389433020845465\n",
      "Эпоха 47, Тренировочные потери: 0.001529311586957459, Валидационные потери: 0.22233754123022798\n",
      "Эпоха 48, Тренировочные потери: 0.003210089075455972, Валидационные потери: 0.23438624821671653\n",
      "Эпоха 49, Тренировочные потери: 0.0033943284542188733, Валидационные потери: 0.22839189756900893\n",
      "Эпоха 50, Тренировочные потери: 0.0007458563244670903, Валидационные потери: 0.23613206432500017\n",
      "Эпоха 51, Тренировочные потери: 0.0004639323698271305, Валидационные потери: 0.2205863351121955\n",
      "Эпоха 52, Тренировочные потери: 0.0016925857701432815, Валидационные потери: 0.22295662613090025\n",
      "Эпоха 53, Тренировочные потери: 0.002648979480113458, Валидационные потери: 0.24144859740493493\n",
      "Эпоха 54, Тренировочные потери: 0.0011264556044832282, Валидационные потери: 0.2357776693247874\n",
      "Эпоха 55, Тренировочные потери: 0.0012972851412011942, Валидационные потери: 0.23834084491117286\n",
      "Эпоха 56, Тренировочные потери: 0.0008935833196027564, Валидационные потери: 0.21382660734544107\n",
      "Эпоха 57, Тренировочные потери: 0.0004354428807529834, Валидационные потери: 0.22086397125086654\n",
      "Эпоха 58, Тренировочные потери: 0.00038914363318627034, Валидационные потери: 0.25576567901383845\n",
      "Эпоха 59, Тренировочные потери: 0.007158605439947285, Валидационные потери: 0.21228136360098462\n",
      "Эпоха 60, Тренировочные потери: 0.0018433646324577681, Валидационные потери: 0.2356267048678267\n",
      "Эпоха 61, Тренировочные потери: 0.0004929552384472768, Валидационные потери: 0.2209827322478688\n",
      "Эпоха 62, Тренировочные потери: 0.0, Валидационные потери: 0.22022139030859011\n",
      "Эпоха 63, Тренировочные потери: 0.0, Валидационные потери: 0.21924889284536378\n",
      "Эпоха 64, Тренировочные потери: 0.0, Валидационные потери: 0.2181029655517788\n",
      "Эпоха 65, Тренировочные потери: 0.004437115214286594, Валидационные потери: 0.2172269508379315\n",
      "Эпоха 66, Тренировочные потери: 0.002171362321311181, Валидационные потери: 0.2271129937346922\n",
      "Эпоха 67, Тренировочные потери: 0.0015676322333309629, Валидационные потери: 0.2421061792504897\n",
      "Эпоха 68, Тренировочные потери: 0.0017516498171955073, Валидационные потери: 0.22422551036974706\n",
      "Эпоха 69, Тренировочные потери: 0.0032158869122146465, Валидационные потери: 0.21970509739097105\n",
      "Эпоха 70, Тренировочные потери: 0.0008544503001991762, Валидационные потери: 0.2246013172175906\n",
      "Эпоха 71, Тренировочные потери: 0.0022857468062584554, Валидационные потери: 0.22354309646361464\n",
      "Эпоха 72, Тренировочные потери: 0.0011092512979419954, Валидационные потери: 0.22302955049987233\n",
      "Эпоха 73, Тренировочные потери: 0.0003105836177090986, Валидационные потери: 0.2256994122758918\n",
      "Эпоха 74, Тренировочные потери: 0.002664206334210317, Валидационные потери: 0.22460125870660905\n",
      "Эпоха 75, Тренировочные потери: 0.00101292953578704, Валидационные потери: 0.227358378729689\n",
      "Эпоха 76, Тренировочные потери: 0.0, Валидационные потери: 0.22672453681263355\n",
      "Эпоха 77, Тренировочные потери: 0.0, Валидационные потери: 0.22602213730505846\n",
      "Эпоха 78, Тренировочные потери: 0.0007128965964011096, Валидационные потери: 0.2748507533598384\n",
      "Эпоха 79, Тренировочные потери: 0.005170556820860697, Валидационные потери: 0.22385551196719528\n",
      "Эпоха 80, Тренировочные потери: 0.0018966078758239746, Валидационные потери: 0.23862380609599823\n",
      "Эпоха 81, Тренировочные потери: 0.0004726096030768998, Валидационные потери: 0.24172384618619167\n",
      "Эпоха 82, Тренировочные потери: 0.0, Валидационные потери: 0.24096385962372527\n",
      "Эпоха 83, Тренировочные потери: 0.0, Валидационные потери: 0.24007123402499278\n",
      "Эпоха 84, Тренировочные потери: 0.0, Валидационные потери: 0.23901149756317838\n",
      "Эпоха 85, Тренировочные потери: 0.0, Валидационные потери: 0.23783697349215865\n",
      "Эпоха 86, Тренировочные потери: 0.00322649719518259, Валидационные потери: 0.26677959194970785\n",
      "Эпоха 87, Тренировочные потери: 0.0020100529040765324, Валидационные потери: 0.26017321796592224\n",
      "Эпоха 88, Тренировочные потери: 0.001681566675868603, Валидационные потери: 0.26977645016591484\n",
      "Эпоха 89, Тренировочные потери: 0.0007860354327280587, Валидационные потери: 0.24338749384661335\n",
      "Эпоха 90, Тренировочные потери: 0.0017195368031842993, Валидационные потери: 0.235170564629616\n",
      "Эпоха 91, Тренировочные потери: 0.0028442255947568, Валидационные потери: 0.23182824686032916\n",
      "Эпоха 92, Тренировочные потери: 0.00036628465040014426, Валидационные потери: 0.23096191729974308\n",
      "Эпоха 93, Тренировочные потери: 0.0009071379626562836, Валидационные потери: 0.22841071207588964\n",
      "Эпоха 94, Тренировочные потери: 0.0002223356054463518, Валидационные потери: 0.25140781161981984\n",
      "Эпоха 95, Тренировочные потери: 0.0, Валидационные потери: 0.25042931486707215\n",
      "Эпоха 96, Тренировочные потери: 0.0, Валидационные потери: 0.24933407591023576\n",
      "Эпоха 97, Тренировочные потери: 0.0, Валидационные потери: 0.24809043888651997\n",
      "Эпоха 98, Тренировочные потери: 0.0, Валидационные потери: 0.24656942371928364\n",
      "Эпоха 99, Тренировочные потери: 0.0, Валидационные потери: 0.24478516206828826\n",
      "Эпоха 100, Тренировочные потери: 0.0, Валидационные потери: 0.24289290445660233\n"
     ]
    }
   ],
   "source": [
    "losses, val_losses = train_model(model, train_triplets, val_triplets, optimizer, triplet_loss, num_epochs=100, device=device)"
   ]
  },
  {
   "cell_type": "code",
   "execution_count": 397,
   "id": "65b9e21c-dc1f-4f00-9064-d3dfd1e7d252",
   "metadata": {},
   "outputs": [],
   "source": [
    "# # Запуск обучения\n",
    "# losses = train_model(model, train_triplets, optimizer, triplet_loss, num_epochs=10, device=device)"
   ]
  },
  {
   "cell_type": "code",
   "execution_count": 404,
   "id": "6e1c3965-0590-4008-a70d-16f610e388af",
   "metadata": {},
   "outputs": [
    {
     "data": {
      "image/png": "[encoded data removed]",
      "text/plain": [
       "<Figure size 640x480 with 1 Axes>"
      ]
     },
     "metadata": {},
     "output_type": "display_data"
    }
   ],
   "source": [
    "# Построение графика\n",
    "epochs = range(1, len(losses) + 1)\n",
    "\n",
    "plt.plot(epochs, losses, 'b', label='Training Loss')\n",
    "plt.plot(epochs, val_losses, 'r', label='Validation Loss')\n",
    "plt.title('Training and Validation Loss')\n",
    "plt.xlabel('Epochs')\n",
    "plt.ylabel('Loss')\n",
    "plt.legend()\n",
    "\n",
    "plt.show()"
   ]
  },
  {
   "cell_type": "code",
   "execution_count": 405,
   "id": "8dc17a99-a60a-4733-95e7-a5def17db162",
   "metadata": {},
   "outputs": [],
   "source": [
    "# # Визуализация потерь\n",
    "# epochs = range(1, len(losses) + 1)\n",
    "# plt.plot(epochs, losses, 'b', label='Training loss')\n",
    "# plt.title('Training loss over epochs')\n",
    "# plt.xlabel('Epochs')\n",
    "# plt.ylabel('Loss')\n",
    "# plt.legend()\n",
    "# plt.show()"
   ]
  },
  {
   "cell_type": "code",
   "execution_count": 406,
   "id": "12127b11-17f3-4969-84a5-62eec639d316",
   "metadata": {},
   "outputs": [],
   "source": [
    "# Функция для тестирования модели\n",
    "def test_model(model, triplets, loss_fn, device='cuda'):\n",
    "    model.eval()\n",
    "    total_loss = 0.0\n",
    "    \n",
    "    with torch.no_grad():\n",
    "        for anchor_file, positive_file, negative_file in triplets:\n",
    "            anchor = extract_mel_spectrogram(anchor_file).unsqueeze(0).to(device)\n",
    "            positive = extract_mel_spectrogram(positive_file).unsqueeze(0).to(device)\n",
    "            negative = extract_mel_spectrogram(negative_file).unsqueeze(0).to(device)\n",
    "            \n",
    "            anchor_embed = model(anchor)\n",
    "            positive_embed = model(positive)\n",
    "            negative_embed = model(negative)\n",
    "            \n",
    "            loss = loss_fn(anchor_embed, positive_embed, negative_embed)\n",
    "            total_loss += loss.item()\n",
    "    \n",
    "    avg_loss = total_loss / len(triplets)\n",
    "    print(f\"Средние потери на тестовом наборе: {avg_loss}\")"
   ]
  },
  {
   "cell_type": "code",
   "execution_count": 407,
   "id": "5ea386c9-001b-4393-b1b7-5fb764476a75",
   "metadata": {},
   "outputs": [],
   "source": [
    "# Функция для оценки точности модели\n",
    "from torch.nn.functional import cosine_similarity\n",
    "\n",
    "def evaluate_speaker_verification(model, triplets, device='cuda'):\n",
    "    model.eval()\n",
    "    correct = 0\n",
    "    total = 0\n",
    "    \n",
    "    with torch.no_grad():\n",
    "        for anchor_file, positive_file, negative_file in triplets:\n",
    "            anchor = extract_mel_spectrogram(anchor_file).unsqueeze(0).to(device)\n",
    "            positive = extract_mel_spectrogram(positive_file).unsqueeze(0).to(device)\n",
    "            negative = extract_mel_spectrogram(negative_file).unsqueeze(0).to(device)\n",
    "            \n",
    "            anchor_embed = model(anchor)\n",
    "            positive_embed = model(positive)\n",
    "            negative_embed = model(negative)\n",
    "            \n",
    "            pos_similarity = cosine_similarity(anchor_embed, positive_embed)\n",
    "            neg_similarity = cosine_similarity(anchor_embed, negative_embed)\n",
    "            \n",
    "            if pos_similarity > neg_similarity:\n",
    "                correct += 1\n",
    "            total += 1\n",
    "    \n",
    "    accuracy = correct / total\n",
    "    print(f\"Точность модели: {accuracy * 100:.2f}%\")"
   ]
  },
  {
   "cell_type": "code",
   "execution_count": 408,
   "id": "99fdb46a-1047-4248-812a-34f8a2d5181a",
   "metadata": {},
   "outputs": [
    {
     "name": "stdout",
     "output_type": "stream",
     "text": [
      "Средние потери на тестовом наборе: 0.2512935837474438\n",
      "Точность модели: 78.72%\n"
     ]
    }
   ],
   "source": [
    "# Оценка модели на валидационном наборе\n",
    "test_model(model, test_triplets, triplet_loss, device=device)\n",
    "evaluate_speaker_verification(model, test_triplets, device=device)"
   ]
  },
  {
   "cell_type": "code",
   "execution_count": 409,
   "id": "5602af9c-b55b-4016-a881-f37323c2073d",
   "metadata": {},
   "outputs": [],
   "source": [
    "# Сохранение модели\n",
    "torch.save(model.state_dict(), 'cnn_speaker_verification.pth')"
   ]
  },
  {
   "cell_type": "code",
   "execution_count": null,
   "id": "5367d8a3-f857-4ca6-9f07-871b1244373b",
   "metadata": {},
   "outputs": [],
   "source": []
  },
  {
   "cell_type": "code",
   "execution_count": null,
   "id": "b1878861-2d0c-41b8-b383-106dda291271",
   "metadata": {},
   "outputs": [],
   "source": []
  },
  {
   "cell_type": "code",
   "execution_count": null,
   "id": "4ee328b0-f427-463b-b70d-e815f2084135",
   "metadata": {},
   "outputs": [],
   "source": []
  }
 ],
 "metadata": {
  "kernelspec": {
   "display_name": "Python (pytorch_env)",
   "language": "python",
   "name": "pytorch_env"
  },
  "language_info": {
   "codemirror_mode": {
    "name": "ipython",
    "version": 3
   },
   "file_extension": ".py",
   "mimetype": "text/x-python",
   "name": "python",
   "nbconvert_exporter": "python",
   "pygments_lexer": "ipython3",
   "version": "3.11.9"
  }
 },
 "nbformat": 4,
 "nbformat_minor": 5
}
